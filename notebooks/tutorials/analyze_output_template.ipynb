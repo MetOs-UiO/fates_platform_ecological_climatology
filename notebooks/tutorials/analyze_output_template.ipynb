{
 "cells": [
  {
   "cell_type": "markdown",
   "id": "fe07846e-dade-40df-84df-0b74d5f2e32a",
   "metadata": {},
   "source": [
    "# Plot model output\n",
    "## Explore NetCDF output variables produced by a successful model run\n",
    "This notebook is heavily inspired by https://github.com/NCAR/ctsm_python_gallery, https://mpaiao.github.io/FATES_Utils/index.html, and https://fates-users-guide.readthedocs.io/en/latest/index.html.\n",
    "\n",
    "**Read the instructions carefully. Unless stated otherwise, make sure to execute all code cells in sequential order.**"
   ]
  },
  {
   "cell_type": "code",
   "execution_count": null,
   "id": "74aca49d-0c23-42d7-aa94-e9cc80c4d474",
   "metadata": {},
   "outputs": [],
   "source": [
    "import xarray as xr  # NetCDF data handling\n",
    "import matplotlib.pyplot as plt  # Plotting\n",
    "import glob  # Wild card file pattern matching and retrieval\n",
    "import time  # Keeping track of runtime"
   ]
  },
  {
   "cell_type": "markdown",
   "id": "1934a305-6b66-400e-8a8f-0d9b17110a0d",
   "metadata": {},
   "source": [
    "---\n",
    "#### Define names and path to where the NetCDF output is located."
   ]
  },
  {
   "cell_type": "code",
   "execution_count": null,
   "id": "af5adf85-aa8f-40c7-affd-4d2e40af1b86",
   "metadata": {},
   "outputs": [],
   "source": [
    "# CHANGE THE TWO FOLLOWING VARIABLES\n",
    "case_name = \"ALP3\"  # Same as shown in GUI title (ALP1, BOR2, etc.), used for labelling and file names\n",
    "case_id = \"c6f674050f339d9994a1a51a9362ae9a\"  # Copy paste the case ID for the experiment you want to analyze here\n",
    "\n",
    "# Next line will be set automatically\n",
    "output_path_str = f\"../../cases/{case_id}/archive/lnd/hist/\"  # Default path to land output for an experiment"
   ]
  },
  {
   "cell_type": "markdown",
   "id": "d8dd390d",
   "metadata": {},
   "source": [
    "#### Read NetCDF files, combine all files in the directory.\n",
    "<h5 style=\"color:red;\">NB! Did you include more than one \"history tape\"?</h5>\n",
    "\n",
    "This is only relevant if you specified additional output for the fields `hist_fincl2` - `hist_fincl6` in the \"NAMELIST - CLM - HISTORY\" tab when you created the case in the GUI. There is no automated code included in this notebook to deal with this additional output, but you can easily adapt the cells according to your needs. See the commented out code below (the lines between the triple quotations) for examples on how to read in data from different history tapes."
   ]
  },
  {
   "cell_type": "code",
   "execution_count": null,
   "id": "0154460d-9f6c-4770-91e8-ce0232aa8737",
   "metadata": {},
   "outputs": [],
   "source": [
    "# This process can take several minutes depending on the amount and size of files (ca. 5 mins for 10 year monthly default output)\n",
    "start = time.time()\n",
    "\n",
    "h0_file_names = glob.glob(output_path_str+\"/*h0*.nc\")\n",
    "\"\"\"\n",
    "h1_file_names = glob.glob(output_path_str+\"/*h1*.nc\")\n",
    "# etc.\n",
    "\"\"\"\n",
    "\n",
    "nc_data_h0 = xr.open_mfdataset(h0_file_names,\n",
    "                               combine='by_coords',\n",
    "                               decode_times=True)\n",
    "\"\"\"\n",
    "nc_data_h1 = xr.open_mfdataset(h1_file_names,\n",
    "                               combine='by_coords',\n",
    "                               decode_times=True)\n",
    "# etc.\n",
    "\"\"\"\n",
    "\n",
    "print(f\"Time it took to read the data: {time.strftime('%Hh%Mm%Ss', time.gmtime(time.time()-start))}.\")"
   ]
  },
  {
   "cell_type": "markdown",
   "id": "1180ffd3-7e94-4a1e-baac-5a8e3b271778",
   "metadata": {},
   "source": [
    "---\n",
    "First, investigate how time is stored in the resulting object."
   ]
  },
  {
   "cell_type": "code",
   "execution_count": null,
   "id": "d1e94ad8",
   "metadata": {
    "scrolled": true,
    "tags": []
   },
   "outputs": [],
   "source": [
    "nc_data_h0[\"time\"]"
   ]
  },
  {
   "cell_type": "code",
   "execution_count": null,
   "id": "6d7cc05a-8ce6-4dd4-9883-8d0e99b474c1",
   "metadata": {},
   "outputs": [],
   "source": [
    "# Cast time to datetimeindex for easier handling, e.g., when plotting. Throws a warning due to the special calendar format.\n",
    "nc_data_h0[\"time\"] = nc_data_h0.indexes[\"time\"].to_datetimeindex()"
   ]
  },
  {
   "cell_type": "code",
   "execution_count": null,
   "id": "b4b1bbda",
   "metadata": {
    "scrolled": true,
    "tags": []
   },
   "outputs": [],
   "source": [
    "# Check how the updated format looks like\n",
    "nc_data_h0[\"time\"]"
   ]
  },
  {
   "cell_type": "markdown",
   "id": "6ddd8837",
   "metadata": {},
   "source": [
    "Note that the solution above will result in slight date mismatches between the model output and the plots. One of the reasons is that the GSWP3 climate input data uses a special calendar format, ['noleap'](http://cfconventions.org/cf-conventions/cf-conventions#calendar), where all years (including leap years) are represented with 365 days. To align the dates properly, we would need to resample the dates more carefully, but we will keep it simplified here."
   ]
  },
  {
   "cell_type": "code",
   "execution_count": null,
   "id": "627c5e33",
   "metadata": {
    "scrolled": true,
    "tags": []
   },
   "outputs": [],
   "source": [
    "# Print full dataset information\n",
    "nc_data_h0"
   ]
  },
  {
   "cell_type": "markdown",
   "id": "462e4c9d-52f9-40a5-9cbd-36c388192c95",
   "metadata": {},
   "source": [
    "If you want to learn more about the structure of NetCDF files, you may find [this introduction summary](https://adyork.github.io/python-oceanography-lesson/17-Intro-NetCDF/index.html) helpful.\n",
    "\n",
    "---\n",
    "# Create simple time series line plots\n",
    "##### Plot variables with only time and lndgrid dimensions.\n",
    "There are multiple ways to create output plots from xarray `DataArray` objects, i.e., for all the variables contained in the full xarray `DataSet` that we created when reading in the NetCDF files. For more details, check https://docs.xarray.dev/en/latest/user-guide/plotting.html.\n",
    "\n",
    "Let's start by selecting one of the `Data variables` from the output above that only has `time` and `lndgrid` dimensions (listed in the parentheses in the second column when you display the data)."
   ]
  },
  {
   "cell_type": "code",
   "execution_count": null,
   "id": "0dcc0f2a",
   "metadata": {},
   "outputs": [],
   "source": [
    "var_name = \"AGB\" # \"AREA_TREES\", \"NPP\", ..."
   ]
  },
  {
   "cell_type": "markdown",
   "id": "c567b813",
   "metadata": {},
   "source": [
    "Next, explore your choice by assigning the object to a new Python variable and by printing its content."
   ]
  },
  {
   "cell_type": "code",
   "execution_count": null,
   "id": "13220b3f",
   "metadata": {},
   "outputs": [],
   "source": [
    "var = nc_data_h0[var_name]\n",
    "var"
   ]
  },
  {
   "cell_type": "markdown",
   "id": "9e82b832",
   "metadata": {},
   "source": [
    "---\n",
    "The simplest way to create a plot is to use the `plot()` method that is already built into each `DataArray`. This approach is great for quick exploration, but it can arguably be a bit tricky to achieved desired customized the output."
   ]
  },
  {
   "cell_type": "code",
   "execution_count": null,
   "id": "f91de62a",
   "metadata": {},
   "outputs": [],
   "source": [
    "# Directly call the DataArray's plot method\n",
    "var.plot()"
   ]
  },
  {
   "cell_type": "markdown",
   "id": "e6817a29",
   "metadata": {},
   "source": [
    "As you see, this method automatically detects the internal structure of the data (2D-line plot) and directly assigns sensible values and labels to the axes (i.e., dates and variable long name including unit). It is also possible to provide additional arguments to the function call to adapt the plot, see [here](https://docs.xarray.dev/en/latest/generated/xarray.DataArray.plot.html#xarray.DataArray.plot) for details.\n",
    "\n",
    "However, it is also possible to create plots by accessing the object's values directly, e.g., with the popular `matplotlib` library. Note that the `DataArray.plot()` method also uses this library under the hood."
   ]
  },
  {
   "cell_type": "code",
   "execution_count": null,
   "id": "43f737dd-8d77-4962-a54c-a111bf5d9dc5",
   "metadata": {},
   "outputs": [],
   "source": [
    "# Create plot using matplotlib library directly\n",
    "fig, ax = plt.subplots(figsize=(10, 6))\n",
    "\n",
    "ax.plot(nc_data_h0['time'], var)\n",
    "ax.set_title(f\"Plotted variable: {var_name}\")\n",
    "ax.set_xlabel(\"Date\")\n",
    "ax.set_ylabel(f\"{var.long_name} [{nc_data_h0[var_name].units}]\")"
   ]
  },
  {
   "cell_type": "markdown",
   "id": "558c8709",
   "metadata": {},
   "source": [
    "🤔 **Question 1**:\n",
    "Try to explain the plot for the variable that you picked."
   ]
  },
  {
   "cell_type": "markdown",
   "id": "09206405",
   "metadata": {},
   "source": [
    "---\n",
    "# Plotting variables with more dimensions"
   ]
  },
  {
   "cell_type": "code",
   "execution_count": null,
   "id": "9d9f4067",
   "metadata": {},
   "outputs": [],
   "source": [
    "# Variable name for biomass per PFT in dataset\n",
    "var_name = \"PFTbiomass\""
   ]
  },
  {
   "cell_type": "markdown",
   "id": "2532fb31",
   "metadata": {},
   "source": [
    "Start by again calling the internal `DataArray.plot()` method."
   ]
  },
  {
   "cell_type": "code",
   "execution_count": null,
   "id": "621c1892",
   "metadata": {},
   "outputs": [],
   "source": [
    "pft_biomass = nc_data_h0[var_name]\n",
    "pft_biomass.plot()"
   ]
  },
  {
   "cell_type": "markdown",
   "id": "3c4c0d1c",
   "metadata": {},
   "source": [
    "🤔 **Question 2**:\n",
    "What is your impression about the output and how does it differ from the previous example? Do you think this is a good way to visualize the data?\n",
    "---\n",
    "The following cell defines some FATES PFT properties as Python `dict`(ionary) objects that we will use for plotting. Execute the code, but don't worry too much about the content."
   ]
  },
  {
   "cell_type": "code",
   "execution_count": null,
   "id": "8dfe12e6",
   "metadata": {},
   "outputs": [],
   "source": [
    "# Dictionary assigning long names and plot properties (NB: this is version and model setting dependent!)\n",
    "# dict keys are the PFT indices used within the FATES output\n",
    "default_pft_dict = {\n",
    "    \"1\": {\n",
    "        \"long_name\": \"Broadleaf evergreen tropical tree\",\n",
    "        \"group\": \"tree\"\n",
    "    },\n",
    "    \"2\": {\n",
    "        \"long_name\": \"Needleleaf evergreen extratropical tree\",\n",
    "        \"group\": \"tree\"\n",
    "    },\n",
    "    \"3\": {\n",
    "        \"long_name\": \"Needleleaf cold-deciduous extratropical tree\",\n",
    "        \"group\": \"tree\"\n",
    "    },\n",
    "    \"4\": {\n",
    "        \"long_name\": \"Broadleaf evergreen extratropical tree\",\n",
    "        \"group\": \"tree\"\n",
    "    },\n",
    "    \"5\": {\n",
    "        \"long_name\": \"Broadleaf hydro-deciduous tropical tree\",\n",
    "        \"group\": \"tree\"\n",
    "    },\n",
    "    \"6\": {\n",
    "        \"long_name\": \"Broadleaf cold-deciduous extratropical tree\",\n",
    "        \"group\": \"tree\"\n",
    "    },\n",
    "    \"7\": {\n",
    "        \"long_name\": \"Broadleaf evergreen extratropical shrub\",\n",
    "        \"group\": \"shrub\"\n",
    "    },\n",
    "    \"8\": {\n",
    "        \"long_name\": \"Broadleaf hydro-deciduous extratropical shrub\",\n",
    "        \"group\": \"shrub\"\n",
    "    },\n",
    "    \"9\": {\n",
    "        \"long_name\": \"Broadleaf cold-deciduous extratropical shrub\",\n",
    "        \"group\": \"shrub\"\n",
    "    },\n",
    "    \"10\": {\n",
    "        \"long_name\": \"Arctic C3 grass\",\n",
    "        \"group\": \"grass\"\n",
    "    },\n",
    "    \"11\": {\n",
    "        \"long_name\": \"Cool C3 grass\",\n",
    "        \"group\": \"grass\"\n",
    "    },\n",
    "    \"12\": {\n",
    "        \"long_name\": \"C4 grass\",\n",
    "        \"group\": \"grass\"\n",
    "    }\n",
    "}\n",
    "\n",
    "pft_group_plot_dict = {\n",
    "    \"tree\": {\n",
    "        \"linestyle\": \"-\"\n",
    "    },\n",
    "    \"shrub\": {\n",
    "        \"linestyle\": \"--\"\n",
    "    },\n",
    "    \"grass\": {\n",
    "        \"linestyle\": \":\"\n",
    "    }\n",
    "}"
   ]
  },
  {
   "cell_type": "markdown",
   "id": "cfbba10e-64ca-4d2b-ba37-d7ceb2ef72e4",
   "metadata": {
    "tags": []
   },
   "source": [
    "<h3 style=\"color:red;\">NB! Did you use non-default PFT indices?</h3>\n",
    "If you changed the number of PFTs for your simulation, you need to adjust the following code. I.e., you need to enter the same list of PFT indices you used when you created the case in the GUI:\n",
    "\n",
    "1. Open the GUI window/tab (localhost:8080) and click on the site name, either using the map or the overview at the top\n",
    "2. Under `Cases`, search for the case ID you are analyzing here\n",
    "3. Click on ___See Variables___\n",
    "4. Copy the list of integers displayed for `included_pft_indices` into the `custom_pft_indices` variable in the code cell below\n",
    "5. Set the value for `use_custom_pfts` to `True`"
   ]
  },
  {
   "cell_type": "code",
   "execution_count": null,
   "id": "7a795622-c253-4f3c-8306-503e8ef0f791",
   "metadata": {},
   "outputs": [],
   "source": [
    "# ADJUST HERE #\n",
    "use_custom_pfts = True  # True or False\n",
    "custom_pft_indices = [  # Add the comma-seperated list of PFT indices below. OBS! Do not remove the square brackets!\n",
    "    7, 8, 9, 10, 11\n",
    "]\n",
    "\n",
    "# NO NEED TO TOUCH THE FOLLOWING LINES #\n",
    "# Create new dict for included PFTs from default\n",
    "custom_pft_dict = {str(idx+1): default_pft_dict[str(pft_idx)] for idx, pft_idx in enumerate(custom_pft_indices)}  \n",
    "custom_pft_dict"
   ]
  },
  {
   "cell_type": "code",
   "execution_count": null,
   "id": "4531aa4f",
   "metadata": {
    "scrolled": true
   },
   "outputs": [],
   "source": [
    "# Display variable details\n",
    "pft_biomass"
   ]
  },
  {
   "cell_type": "markdown",
   "id": "03a794b4",
   "metadata": {},
   "source": [
    "Let's now use Matplotlib again to create a multi-line plot, which hopefully depicts the PFT biomass dynamics in a more tangible way. Note that you can also achieve a similar result with the built-in `plot()` function (see documentation)."
   ]
  },
  {
   "cell_type": "code",
   "execution_count": null,
   "id": "ff079a11",
   "metadata": {},
   "outputs": [],
   "source": [
    "# Instantiate plot\n",
    "fig, ax = plt.subplots(figsize=(10,6))\n",
    "\n",
    "# Create a multi-line plot by looping through PFT properties\n",
    "plot_handle_list = []\n",
    "\n",
    "# Determine whether default or customized PFTs were used based on boolean variable\n",
    "pft_dict = custom_pft_dict if use_custom_pfts else default_pft_dict\n",
    "\n",
    "for cur_pft_idx in pft_biomass.fates_levpft:\n",
    "    \n",
    "    cur_pft_dict = pft_dict[str(int(cur_pft_idx))]\n",
    "    \n",
    "    # Plot biomass for current PFT index\n",
    "    cur_plot_handles, = ax.plot(nc_data_h0['time'],\n",
    "                                pft_biomass.sel(fates_levpft=cur_pft_idx),\n",
    "                                label=cur_pft_dict[\"long_name\"],\n",
    "                                linestyle=pft_group_plot_dict[cur_pft_dict[\"group\"]][\"linestyle\"],\n",
    "                                linewidth=1.5\n",
    "                               )\n",
    "    \n",
    "    plot_handle_list.append(cur_plot_handles)\n",
    "\n",
    "# Set overall plot layout\n",
    "ax.set_title(f\"{case_name}: {pft_biomass.long_name}\")\n",
    "ax.set_xlabel(\"Date\", fontsize=14)\n",
    "ax.set_ylabel(f\"{var_name} [{pft_biomass.units}]\", fontsize=14)\n",
    "\n",
    "ax.legend(\n",
    "    handles=plot_handle_list,\n",
    "    bbox_to_anchor=(1.05, 1),  # Places the legend outside to the plotting area\n",
    "    loc='upper left',\n",
    "    fontsize=11\n",
    ")"
   ]
  },
  {
   "cell_type": "markdown",
   "id": "4f7d6307-5551-4d5c-97a4-fe0425be3505",
   "metadata": {},
   "source": [
    "🤔 **Question 3**:\n",
    "Discuss the plot. Does the amount of biomass and PFT distribution make sense to you?"
   ]
  },
  {
   "cell_type": "markdown",
   "id": "2ebaf81d",
   "metadata": {
    "tags": []
   },
   "source": [
    "---\n",
    "# Run type: startup\n",
    "\n",
    "After we have learned how to read the data and how to create output plots while taking the differences in variable dimensions into account, we now want to focus on explaining what we see. One notorious problem with earth system models is the computationally expensive **spin-up phase**, as you should remember from the LPJ-GUESS exercise. It can be maneageable for single-point simulations, but it gets more difficult the larger the simulated area is and the more model components you include. In CLM-FATES, The starting conditions are chiefly controlled by the `runtype` parameter, but depending on the setting, additional files and parameter changes can be required. Let's create plots to investigate some important state variables over our chosen simulation period, which in our protocol uses the `startup` setting.\n",
    "\n",
    "_The following plots are inspired by the CTSM analysis tool mentioned [here](https://escomp.github.io/ctsm-docs/versions/release-clm5.0/html/users_guide/running-special-cases/Spinning-up-the-biogeochemistry-BGC-spinup.html)._"
   ]
  },
  {
   "cell_type": "code",
   "execution_count": null,
   "id": "47366093-191b-4bac-8544-acade9d67606",
   "metadata": {},
   "outputs": [],
   "source": [
    "# Use this cell to explore the variables defined below, if you want. E.g.:\n",
    "# nc_data_h0[\"TWS\"]"
   ]
  },
  {
   "cell_type": "code",
   "execution_count": null,
   "id": "4371ddd0",
   "metadata": {},
   "outputs": [],
   "source": [
    "import math\n",
    "\n",
    "# Variables to plot from 'nc_data_h0', feel free to add more names to the list\n",
    "var_names = [\"GPP\", \"TWS\", \"TOTSOMC\", \"TLAI\", \"TOTVEGC\"]\n",
    "\n",
    "# Instantiate figure with subplot grid adapted to number of variables provided\n",
    "fig, axes = plt.subplots(\n",
    "    nrows=math.ceil(len(var_names)/2),\n",
    "    ncols=2,\n",
    "    figsize=(15, math.ceil(len(var_names)/2)*6)\n",
    ")\n",
    "\n",
    "# Delete empty axis object if number of variable names in list is odd\n",
    "if len(axes.flatten()) != len(var_names):\n",
    "    if len(axes.flatten()) == 2:\n",
    "        fig.delaxes(axes[-1])\n",
    "    else:\n",
    "        fig.delaxes(axes[-1, -1])\n",
    "\n",
    "# Plot all variables\n",
    "for ax, var in zip(axes.flatten(), var_names):\n",
    "    nc_data_h0[var].plot(ax=ax)"
   ]
  },
  {
   "cell_type": "markdown",
   "id": "ef7096c7",
   "metadata": {},
   "source": [
    "🤔 **Question 4**:\n",
    "Is the ecosystem in your simulation in a steady state? Briefly discuss the individual plots.\n",
    "\n",
    "🤔 **Question 5**:\n",
    "Imagine you want to study many different model configurations at the same location while assuming the same environmental starting conditions. Do you have a suggestion how this could be achieved more efficiently? [Possible solution somewhere in here](https://usegalaxy.org/training-material/topics/climate/tutorials/fates/tutorial.html#setting-up-a-clm-fates-simulation)."
   ]
  },
  {
   "cell_type": "markdown",
   "id": "4b897681",
   "metadata": {},
   "source": [
    "---\n",
    "# Carbon fluxes\n",
    "\n",
    "There are many ways to analyze how carbon \"moves\" between the different components of the earth system model. Let's begin with the total, aggregated land surface fluxes in the single-point location over the simulated period."
   ]
  },
  {
   "cell_type": "code",
   "execution_count": null,
   "id": "ed01b508",
   "metadata": {
    "scrolled": true
   },
   "outputs": [],
   "source": [
    "# Display data again to investigate variables related to C fluxes\n",
    "nc_data_h0"
   ]
  },
  {
   "cell_type": "code",
   "execution_count": null,
   "id": "39da6cec",
   "metadata": {},
   "outputs": [],
   "source": [
    "# Names of the variables that represent important C fluxes\n",
    "# It is possible to add new variable names to the list (plot will be adjusted automatically)\n",
    "c_flux_var_names = [\"NEP\", \"GPP\", \"AR\", \"HR\"]\n",
    "c_flux_vars = [nc_data_h0[s] for s in c_flux_var_names]"
   ]
  },
  {
   "cell_type": "code",
   "execution_count": null,
   "id": "721d1dd0",
   "metadata": {},
   "outputs": [],
   "source": [
    "fig, ax = plt.subplots(figsize=(10,8))\n",
    "\n",
    "plot_handle_list = []\n",
    "\n",
    "for c_var in c_flux_vars:\n",
    "    cur_plot_handle, = ax.plot(c_var['time'], c_var, label=c_var.long_name.capitalize())\n",
    "    plot_handle_list.append(cur_plot_handle)\n",
    "    \n",
    "# Add custom line as a test. Note that in python, array indexing starts at \"0\"! \n",
    "test_var = c_flux_vars[1] - c_flux_vars[2] - c_flux_vars[3]\n",
    "test, = ax.plot(test_var[\"time\"], test_var, \n",
    "                label=\" - \".join(c_flux_var_names[1:4]),\n",
    "                color=\"black\",\n",
    "                linewidth=3,\n",
    "                linestyle=\":\",\n",
    "                zorder=10  # Make sure line is on top of others\n",
    "               )\n",
    "plot_handle_list.append(test)\n",
    "\n",
    "ax.set_title(f\"{case_name}: aggregated C fluxes\")\n",
    "ax.set_xlabel(\"Date\", fontsize=14)\n",
    "ax.set_ylabel(f\"Carbon flux [{c_flux_vars[0].units}]\", fontsize=14)\n",
    "# Use plain notation, i.e., avoid scientific \"1e-3\" notation\n",
    "ax.ticklabel_format(style='plain', axis='y')\n",
    "\n",
    "ax.legend(\n",
    "    handles=plot_handle_list,\n",
    "    bbox_to_anchor=(1.05, 1),\n",
    "    loc='upper left',\n",
    "    fontsize=14\n",
    ")"
   ]
  },
  {
   "cell_type": "markdown",
   "id": "7880d046",
   "metadata": {},
   "source": [
    "🤔 **Question 6**:\n",
    "The last line displayed in the legend was calculated as follows: `GPP - autotr. respiration - hetrotr. respiration`. Does it differ from the `NEP` values in your example? If it does, why could this be?\n",
    "\n",
    "🤔 🐍 **Question 7**:\n",
    "Add the output for the `NPP` history variable to the same plot. Also add a new line calculated as `GPP - autotr. respiration` (you can copy paste and adapt the previous example). What do you expect and what do you see?"
   ]
  },
  {
   "cell_type": "markdown",
   "id": "e5b07a32-769b-4b7d-8540-8672e11385d2",
   "metadata": {
    "tags": []
   },
   "source": [
    "---\n",
    "# FATES patches\n",
    "To better understand some important subgrid processes in the model, we will now analyze the output grouped by different properties of the modelled vegetation. First, we focus on the concepts of \"age bins\" and \"patches\". **NB**! The next code cells only work if you have successfully included the `NPATCH_BY_AGE` variable in the output for history tape 0 (`hist_fincl0` -> `NPATCH_BY_AGE`) as it is not included by default (see https://escomp.github.io/ctsm-docs/versions/master/html/users_guide/setting-up-and-running-a-case/master_list_fates.html).\n",
    "\n",
    "🤔 **Question 8**:\n",
    "Skim the following documentation: https://escomp.github.io/ctsm-docs/versions/release-clm5.0/html/tech_note/DGVM/CLM50_Tech_Note_DGVM.html#the-representation-of-ecosystem-heterogeneity-in-fates. In this model, what is a patch? What is a cohort? What is a height class? How and why are patches and cohorts merged?"
   ]
  },
  {
   "cell_type": "code",
   "execution_count": null,
   "id": "c2fcd0dd-26d9-424d-8b8e-4c1cf208913c",
   "metadata": {},
   "outputs": [],
   "source": [
    "npatch_by_age = nc_data_h0[\"NPATCH_BY_AGE\"]\n",
    "npatch_by_age"
   ]
  },
  {
   "cell_type": "markdown",
   "id": "1045db24-3591-4e8c-9b0c-ee0aab259b7d",
   "metadata": {},
   "source": [
    "---\n",
    "As usual, let's explore the standard plot first."
   ]
  },
  {
   "cell_type": "code",
   "execution_count": null,
   "id": "210e01d3-733d-4dd7-b410-cfb280dad684",
   "metadata": {},
   "outputs": [],
   "source": [
    "npatch_by_age.plot()"
   ]
  },
  {
   "cell_type": "code",
   "execution_count": null,
   "id": "efe89ccb-8bac-40aa-848e-a1f8ed7aed1a",
   "metadata": {
    "tags": []
   },
   "outputs": [],
   "source": [
    "# Explore the 'fates_levage' variable\n",
    "npatch_by_age.fates_levage"
   ]
  },
  {
   "cell_type": "code",
   "execution_count": null,
   "id": "8c81d819-41f5-4c93-bef7-31ed1aebf595",
   "metadata": {},
   "outputs": [],
   "source": [
    "# Make a list for labelling the legend in a more comprehensive way\n",
    "vals = list(npatch_by_age.fates_levage.values)\n",
    "\n",
    "age_labels = [str(int(vals[x]))+\"-\"+str(int(vals[x+1])) if x+1!=len(vals) else \">\"+str(int(vals[x])) for x in range(len(vals))]\n",
    "age_labels"
   ]
  },
  {
   "cell_type": "markdown",
   "id": "8fa049af-a696-46ce-a794-ce68baffc5aa",
   "metadata": {
    "tags": []
   },
   "source": [
    "🐍 _Python bonus question_ (optional): the second expression in the cell above is a so-called \"list comprehension\" and works for any number of \"patch age levels\", which is in fact an adjustable parameter in FATES. Rewrite the code using \"classic\" for-loop syntax, i.e.:\n",
    "```\n",
    "for x in y:\n",
    "    # do something\n",
    "```"
   ]
  },
  {
   "cell_type": "markdown",
   "id": "0578ec6d-20b2-4276-ba44-35a58ce4e039",
   "metadata": {},
   "source": [
    "#### Multi-line plot"
   ]
  },
  {
   "cell_type": "code",
   "execution_count": null,
   "id": "64ea3f65-e825-4088-acb6-ed34638c4a2f",
   "metadata": {
    "tags": []
   },
   "outputs": [],
   "source": [
    "# Instantiate plot\n",
    "fig, ax = plt.subplots(figsize=(10, 6))\n",
    "\n",
    "# Create a multi-line plot by looping through PFT properties\n",
    "plot_handle_list = []\n",
    "\n",
    "for iter_idx, cur_age_idx in enumerate(npatch_by_age.fates_levage):\n",
    "    \n",
    "    #cur_pft_dict = pft_dict[str(int(cur_age_idx))]\n",
    "    \n",
    "    # Plot biomass for current PFT index\n",
    "    cur_plot_handles, = ax.plot(nc_data_h0['time'],\n",
    "                                npatch_by_age.sel(fates_levage=cur_age_idx),\n",
    "                                label=age_labels[iter_idx],\n",
    "                                #linestyle=pft_group_plot_dict[cur_pft_dict[\"group\"]][\"linestyle\"],\n",
    "                                linewidth=1.5\n",
    "                               )\n",
    "    \n",
    "    plot_handle_list.append(cur_plot_handles)\n",
    "\n",
    "# Set overall plot layout\n",
    "ax.set_title(f\"{case_name}: {npatch_by_age.long_name}\")\n",
    "ax.set_xlabel(\"Date\", fontsize=14)\n",
    "ax.set_ylabel(f\"Number of patches\", fontsize=14)\n",
    "\n",
    "ax.legend(\n",
    "    title=\"Age bin [years]\",\n",
    "    handles=plot_handle_list,\n",
    "    bbox_to_anchor=(1.05, 1),  # Places the legend outside to the plotting area\n",
    "    loc='upper left',\n",
    "    fontsize=11\n",
    ")"
   ]
  },
  {
   "cell_type": "markdown",
   "id": "d09ee3fa-ef05-41ba-b673-2ccd186549eb",
   "metadata": {},
   "source": [
    "🤔 **Question 9**:\n",
    "Explain the plot.\n",
    "\n",
    "Also check out the plot below for an additional variable that represents how much area the different age classes account for in relation to the total area of patches."
   ]
  },
  {
   "cell_type": "code",
   "execution_count": null,
   "id": "eaf31254-cb7f-4821-ace3-f2458a54b871",
   "metadata": {},
   "outputs": [],
   "source": [
    "patch_area_by_age = nc_data_h0['PATCH_AREA_BY_AGE']\n",
    "\n",
    "fig, ax = plt.subplots(figsize=(8, 8))\n",
    "\n",
    "color_bar_plot = \\\n",
    "patch_area_by_age.T.plot(ax=ax,\n",
    "                         cbar_kwargs={\n",
    "                             'label': r'Patch Area by Age (m$^2$ patch m$^{-2}$ site)'\n",
    "                             }\n",
    "                        )\n",
    "\n",
    "\n",
    "# Title and labels\n",
    "ax.set_title(f\"{case_name}: {patch_area_by_age.long_name}\")\n",
    "ax.set_ylabel(\"Age bin [years]\", fontsize=14)\n",
    "ax.set_xlabel(\"Date\", fontsize=14)\n",
    "ax.set_ylim(0, 20)  # We are only simulating 10 years and can ignore the higher age bins\n",
    "ax.set_yticks([0, 5, 10, 15, 20])"
   ]
  },
  {
   "cell_type": "markdown",
   "id": "f4c43b65-0a76-42f4-a3cb-ffa6b32d28f7",
   "metadata": {
    "tags": []
   },
   "source": [
    "---\n",
    "# FATES PFT cohorts\n",
    "🤔 **Question 9**: Create a suitable plot for the variable `M10_CACLS` - long_name : age senescence mortality by cohort age"
   ]
  },
  {
   "cell_type": "code",
   "execution_count": null,
   "id": "ad8341a2-0ce4-4f14-b29e-b23b02b9ef10",
   "metadata": {},
   "outputs": [],
   "source": []
  },
  {
   "cell_type": "markdown",
   "id": "c744ca26",
   "metadata": {},
   "source": [
    "---\n",
    "# Integrating model input/output and observations\n",
    "\n",
    "One notorious challenge with land surface models is to give them a stronger empirical foundation, i.e., to better link the model assumptions and output to available observational data. The list of difficulties and uncertainties regarding this endeavor is long and includes:\n",
    "\n",
    "- Practical limitations for acquiring extensive datasets (cost, accessibility, cloud cover for remote sensing, ...)\n",
    "- Harmonizing temporal and spatial scales (aggregated grid cell resolutions (km) vs. local observations (cm-m), ...)\n",
    "- Different languages and foci of the scientific disciplines involved (biologists _vs._ geoscientists _vs._ computer scientists _vs._ ...)\n",
    "- Data access and documentation\n",
    "- etc.\n",
    "\n",
    "Accordingly, a main goal of the NorESM modelling platform is to reduce the gap between ecological data collectors and the land surface modelling community. In addition to giving people easier access to running simulations, it aims at showcasing and facilitating how field observations can be used to both constrain the model input and validate its output. The `Vestland Climate Grid` sites you can choose within the GUI are associated with datasets from various ecological experiments at the respective locations. As a practical example, we will now extract some of their measurements for 'soil temperature' and see how it compares to the modelled counterpart in the CLM-FATES simulation. However, note that due to the time mismatch between the available observational data and the climate forcing data set we are providing in this version ([GSWP3](https://www.isimip.org/gettingstarted/details/4/)), we will not be able to compare the exact same points in time. \n",
    "\n",
    "## Example: soil temperature"
   ]
  },
  {
   "cell_type": "code",
   "execution_count": null,
   "id": "bba3844c",
   "metadata": {},
   "outputs": [],
   "source": [
    "# Soil temperature history variable in CLM\n",
    "var_name = \"TSOI\""
   ]
  },
  {
   "cell_type": "code",
   "execution_count": null,
   "id": "87d0e4d5",
   "metadata": {},
   "outputs": [],
   "source": [
    "t_soil = nc_data_h0[var_name]\n",
    "t_soil"
   ]
  },
  {
   "cell_type": "code",
   "execution_count": null,
   "id": "99a4f667",
   "metadata": {},
   "outputs": [],
   "source": [
    "# Explore the standard output plot to get a better feeling for the data\n",
    "t_soil.plot()"
   ]
  },
  {
   "cell_type": "code",
   "execution_count": null,
   "id": "e2fad796",
   "metadata": {},
   "outputs": [],
   "source": [
    "# Convert from Kelvin to Celsius\n",
    "t_soil_celsius = t_soil - 273.15"
   ]
  },
  {
   "cell_type": "code",
   "execution_count": null,
   "id": "8ad93059",
   "metadata": {
    "scrolled": true
   },
   "outputs": [],
   "source": [
    "# Investigate the included ground levels. See:\n",
    "# https://escomp.github.io/ctsm-docs/versions/release-clm5.0/html/tech_note/Ecosystem/CLM50_Tech_Note_Ecosystem.html#id17\n",
    "\n",
    "t_soil_celsius.levgrnd"
   ]
  },
  {
   "cell_type": "markdown",
   "id": "d0d52efd-b401-479e-8482-0a51000d1beb",
   "metadata": {},
   "source": [
    "#### Exploring sources of uncertainty in the input data\n",
    "By setting the `use_bedrock` flag to `True`, we are telling the model to use a variable soil depth rather than using a default value (e.g., remember how LPJ-GUESS Education uses a globally uniform 1.5 m soil column). See for example [this GH issue](https://github.com/NGEET/fates/pull/381) for additional information and associated discussions. The soil depth observations in the current version of the NorESM landsites platform input data were interpolated from a global soil map (see `input_visualization.ipynb` for details). Let's investigate if this data is appropriate for our study design."
   ]
  },
  {
   "cell_type": "code",
   "execution_count": null,
   "id": "3cf53df3",
   "metadata": {},
   "outputs": [],
   "source": [
    "# Open the surface data file included in the standard input data\n",
    "input_surfdata_dir = f\"{case_name}_0.1.0_input\"\n",
    "surface_dset = xr.open_dataset(\n",
    "    f'../../data/{case_id}/inputdata/lnd/clm2/surfdata_map/{case_name}/surfdata_{case_name}_simyr2000.nc'\n",
    ")\n",
    "# Print\n",
    "surface_dset"
   ]
  },
  {
   "cell_type": "markdown",
   "id": "1480b3a3",
   "metadata": {},
   "source": [
    "Print information about the soil depth as contained in the default input data. More information [here](https://escomp.github.io/ctsm-docs/versions/release-clm5.0/html/tech_note/Ecosystem/CLM50_Tech_Note_Ecosystem.html#depth-to-bedrock)."
   ]
  },
  {
   "cell_type": "code",
   "execution_count": null,
   "id": "28cd605f",
   "metadata": {},
   "outputs": [],
   "source": [
    "display(surface_dset['zbedrock'])\n",
    "print(\"Default soil depth in surface data [m]: \", float(surface_dset['zbedrock']))"
   ]
  },
  {
   "cell_type": "markdown",
   "id": "6f9a3aab",
   "metadata": {},
   "source": [
    "🤔 **Question 10**:\n",
    "Do you think the soil depth value interpolated from a global map is realistic for your site and study setup?\n",
    "\n",
    "This is an example how we can use _in situ_ observational data to constrain the model **input**: we could use soil depth measurements from the site to directly manipulate the input surface data NetCDF file.\n",
    "\n",
    "---\n",
    "In addition, even though our goal is to focus the \"single-point\" simulation to a somewhat homogenous, terrestrial, vegetated ecosystem, the default methods of creating the input data will also assign other land cover classes to the modelled locality. Explore the output below. Note that the values for percent PFT do not apply to our simulation as we used FATES. "
   ]
  },
  {
   "cell_type": "code",
   "execution_count": null,
   "id": "8d413980",
   "metadata": {
    "scrolled": true,
    "tags": []
   },
   "outputs": [],
   "source": [
    "for var_name in list(surface_dset.keys()):\n",
    "    if var_name.startswith(\"PCT\"):\n",
    "        print(f\"{var_name} - {surface_dset[var_name].long_name}:\\n\\n{surface_dset[var_name]}\\n{'-'*70}\\n\")"
   ]
  },
  {
   "cell_type": "markdown",
   "id": "4e7c30fd",
   "metadata": {},
   "source": [
    "Depending on the questions we seek to answer, we therefore also might need to further adjust the input data and model setup - or be at least aware of the limitations and uncertainties the forcing may introduce. Note that we plan to include optimized versions of the input data including different climate forcing sources in future releases of the platform. This is also a great example of how complicated the interdisciplinary communication between new users and model developers can be - there are many, many details that can impact your results!\n",
    "\n",
    "---\n",
    "Let's get back to the modelled soil temperature. Note how we here now combine the two previous ways of creating plots, thereby making use of `xarray`'s built-in convenience methods and direct manipulation of the `matplotlib` plot objects."
   ]
  },
  {
   "cell_type": "code",
   "execution_count": null,
   "id": "e57bb222",
   "metadata": {
    "tags": []
   },
   "outputs": [],
   "source": [
    "# Define max depth to investigate top soil/ground layers\n",
    "max_depth = 15  # [m]\n",
    "bool_mask = t_soil_celsius.levgrnd < max_depth\n",
    "\n",
    "# Infer integer index until which condition is met, warning: very unsafe approach that only works because data is ordered in a certain way\n",
    "soil_idx = bool_mask.values.sum() - 1\n",
    "# Subset data\n",
    "t_soil_15m = t_soil_celsius.isel(levgrnd=slice(0, soil_idx))"
   ]
  },
  {
   "cell_type": "code",
   "execution_count": null,
   "id": "80b8890c",
   "metadata": {},
   "outputs": [],
   "source": [
    "fig, ax = plt.subplots(figsize=(8, 8))\n",
    "\n",
    "color_bar_plot = t_soil_15m.T.plot(ax=ax, \n",
    "                                   cbar_kwargs={\n",
    "                                       'label': \"Soil temperature [°C]\"\n",
    "                                   })\n",
    "\n",
    "# Make plot more intuitive by setting depth=0 to the top\n",
    "ax.invert_yaxis()\n",
    "\n",
    "# Title and labels\n",
    "ax.set_title(f\"{case_name}: modelled soil and ground temperature\")\n",
    "ax.set_ylabel(\"Depth [m]\", fontsize=14)\n",
    "ax.set_xlabel(\"Date\", fontsize=14)"
   ]
  },
  {
   "cell_type": "markdown",
   "id": "ab39fe2e",
   "metadata": {},
   "source": [
    "🤔 **Question 11**: Describe and explain what you see. Do you think the results are realistic?\n",
    "\n",
    "---\n",
    "\n",
    "Next, we will load the observational data. Refer to https://osf.io/4c5v2/ for the full documentation and additional information. We can directly download the data from OSF into a DataFrame using the Python code below.\n",
    "\n",
    "**Citation**: Vandvik, V., Telford, R. J., Halbritter, A. H., Jaroszynska, F., Lynn, J. S., Geange, S. R., … Rüthers, J. (2022, April 5). FunCaB - The role of functional group interactions in mediating climate change impacts on the Carbon dynamics and biodiversity of alpine ecosystems. Retrieved from osf.io/4c5v2"
   ]
  },
  {
   "cell_type": "code",
   "execution_count": null,
   "id": "c53cd03e-44cf-4d48-8795-2bf6f44f5593",
   "metadata": {},
   "outputs": [],
   "source": [
    "# Read observational data as a pandas DataFrame. This step can take a while.\n",
    "import pandas as pd\n",
    "\n",
    "# Download data directly from OSF storage, make sure you are connected to the internet\n",
    "obs_soil_t_df = pd.read_csv(\"https://osf.io/7tgxb/download\")"
   ]
  },
  {
   "cell_type": "code",
   "execution_count": null,
   "id": "52ba48af-c233-49e2-8217-5d992cebdb97",
   "metadata": {},
   "outputs": [],
   "source": [
    "# Print unique site names in the data set\n",
    "set(obs_soil_t_df[\"siteID\"])"
   ]
  },
  {
   "cell_type": "code",
   "execution_count": null,
   "id": "14b82c29-a45b-4eec-a805-390e4739463c",
   "metadata": {},
   "outputs": [],
   "source": [
    "# Map the name of the NorESM platform site codes to the corresponding name in the dataset\n",
    "site_dict = {\n",
    "    \"ALP1\": \"Ulvehaugen\",\n",
    "    \"ALP2\": \"Lavisdalen\",\n",
    "    \"ALP3\": \"Gudmedalen\",\n",
    "    \"ALP4\": \"Skjelingahaugen\",\n",
    "    \"SUB1\": \"Alrust\",\n",
    "    \"SUB2\": \"Hogsete\",\n",
    "    \"SUB3\": \"Rambera\",\n",
    "    \"SUB4\": \"Veskre\",\n",
    "    \"BOR1\": \"Fauske\",\n",
    "    \"BOR2\": \"Vikesland\",\n",
    "    \"BOR3\": \"Arhelleren\",\n",
    "    \"BOR4\": \"Ovstedalen\"\n",
    "}"
   ]
  },
  {
   "cell_type": "code",
   "execution_count": null,
   "id": "0a81961b-5d54-4250-b1ac-8571867d54ae",
   "metadata": {},
   "outputs": [],
   "source": [
    "# Print some details about the data\n",
    "print(obs_soil_t_df.shape)  # First number = number of rows (observations), second number = number of columns (variables)\n",
    "obs_soil_t_df.head()"
   ]
  },
  {
   "cell_type": "code",
   "execution_count": null,
   "id": "d9b5935e-ea62-427c-ba42-ea3723e120af",
   "metadata": {},
   "outputs": [],
   "source": [
    "# Subset soil temperatures for site\n",
    "mysite_obs_soil_t_df = obs_soil_t_df[obs_soil_t_df[\"siteID\"] == site_dict[case_name]]\n",
    "mysite_obs_soil_t_df.head()"
   ]
  },
  {
   "cell_type": "code",
   "execution_count": null,
   "id": "f21d6b35-ff92-40db-83f7-e5fa1c338239",
   "metadata": {},
   "outputs": [],
   "source": [
    "# Print period when we have measurements available\n",
    "print(min(mysite_obs_soil_t_df[\"date_time\"]))\n",
    "print(max(mysite_obs_soil_t_df[\"date_time\"]))"
   ]
  },
  {
   "cell_type": "code",
   "execution_count": null,
   "id": "ae337b37-448b-4f7b-83ad-d524c1d9f042",
   "metadata": {},
   "outputs": [],
   "source": [
    "# Print inferred data types\n",
    "mysite_obs_soil_t_df.dtypes"
   ]
  },
  {
   "cell_type": "code",
   "execution_count": null,
   "id": "b3a92a29-03fe-4c18-84e6-ad51217c5e45",
   "metadata": {},
   "outputs": [],
   "source": [
    "# Next we need to calculate monthly means\n",
    "df_monthly_mean = mysite_obs_soil_t_df.groupby(\n",
    "    pd.PeriodIndex(mysite_obs_soil_t_df['date_time'], freq='M')\n",
    ")['soiltemperature'].mean()"
   ]
  },
  {
   "cell_type": "code",
   "execution_count": null,
   "id": "d68f0153-a589-4a8f-ba15-8d8e3e554c3f",
   "metadata": {},
   "outputs": [],
   "source": [
    "# Plot monthly mean\n",
    "pd.DataFrame(df_monthly_mean).plot()"
   ]
  },
  {
   "cell_type": "markdown",
   "id": "a3c9c083-89db-4a52-8fc7-fef91c95669f",
   "metadata": {},
   "source": [
    "## Modelled and observed soil T in one plot"
   ]
  },
  {
   "cell_type": "code",
   "execution_count": null,
   "id": "f7a7943e-1aba-432a-b159-fc404250befb",
   "metadata": {},
   "outputs": [],
   "source": [
    "# Calculate mean for top 3 soil layers from model output to make it somewhat comparable\n",
    "fig, (ax1, ax2) = plt.subplots(nrows=1, ncols=2, figsize=(12, 6))\n",
    "\n",
    "model_top_soil_t = t_soil_celsius.isel(levgrnd=slice(0, 3))\n",
    "model_top_soil_t.plot(ax=ax1)\n",
    "model_top_soil_t = model_top_soil_t.mean(dim=\"levgrnd\")\n",
    "model_top_soil_t.plot(ax=ax2)\n",
    "\n",
    "ax1.set_title(\"Top three soil layers, soil T\")\n",
    "ax2.set_title(\"Mean top three soil layers, soil T\")"
   ]
  },
  {
   "cell_type": "code",
   "execution_count": null,
   "id": "775f5efb-aa21-4b3d-9884-1896c4445d5e",
   "metadata": {},
   "outputs": [],
   "source": [
    "fig, ax = plt.subplots(figsize=(12, 8))\n",
    "\n",
    "# Plot modelled temperature at depth where measurements were taken, take average of top soil layers\n",
    "ax.plot(model_top_soil_t['time'], model_top_soil_t, label=\"Modelled\")\n",
    "ax.plot(pd.DataFrame(df_monthly_mean), label=\"Observed\")\n",
    "\n",
    "ax.set_title(f\"{case_name} - mean monthly soil temperatures\")\n",
    "ax.set_ylabel(\"Soil temperature [°C]\", fontsize=14)\n",
    "ax.set_xlabel(\"Date\", fontsize=14)\n",
    "ax.legend()\n",
    "ax.grid()"
   ]
  },
  {
   "cell_type": "markdown",
   "id": "3b8e65b4-8a73-48ae-8a60-e058bff815db",
   "metadata": {},
   "source": [
    "🤔 **Question 12**: Discuss the results\n",
    "\n",
    "---"
   ]
  }
 ],
 "metadata": {
  "kernelspec": {
   "display_name": "Python 3 (ipykernel)",
   "language": "python",
   "name": "python3"
  },
  "language_info": {
   "codemirror_mode": {
    "name": "ipython",
    "version": 3
   },
   "file_extension": ".py",
   "mimetype": "text/x-python",
   "name": "python",
   "nbconvert_exporter": "python",
   "pygments_lexer": "ipython3",
   "version": "3.9.12"
  }
 },
 "nbformat": 4,
 "nbformat_minor": 5
}
